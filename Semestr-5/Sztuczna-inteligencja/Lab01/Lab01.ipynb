{
  "nbformat": 4,
  "nbformat_minor": 0,
  "metadata": {
    "colab": {
      "provenance": [],
      "toc_visible": true,
      "collapsed_sections": [
        "vi_1TTwU9n8e"
      ]
    },
    "kernelspec": {
      "name": "python3",
      "display_name": "Python 3"
    },
    "language_info": {
      "name": "python"
    }
  },
  "cells": [
    {
      "cell_type": "markdown",
      "source": [
        "# **Język Python**"
      ],
      "metadata": {
        "id": "vi_1TTwU9n8e"
      }
    },
    {
      "cell_type": "markdown",
      "source": [
        "Zadanie 1"
      ],
      "metadata": {
        "id": "4LHAutTRAduI"
      }
    },
    {
      "cell_type": "code",
      "source": [
        "def pierwiastki(a, b = 0, c = 0):\n",
        "    delta = b ** 2 - 4 * a * c\n",
        "    if delta > 0:\n",
        "        x1 = (-b - delta ** 0.5) / (2 * a)\n",
        "        x2 = (-b + delta ** 0.5) / (2 * a)\n",
        "        return x1, x2\n",
        "    if delta == 0:\n",
        "        x = -b / (2 * a)\n",
        "        return x\n",
        "    return None"
      ],
      "metadata": {
        "id": "J9d1yzi_9xzC"
      },
      "execution_count": null,
      "outputs": []
    },
    {
      "cell_type": "code",
      "source": [
        "pierwiastki(2, -5, 2)"
      ],
      "metadata": {
        "colab": {
          "base_uri": "https://localhost:8080/"
        },
        "id": "N1YitAwp_CGc",
        "outputId": "625d4d7c-a7fb-406d-fce2-cf8b80b758cd"
      },
      "execution_count": null,
      "outputs": [
        {
          "output_type": "execute_result",
          "data": {
            "text/plain": [
              "(0.5, 2.0)"
            ]
          },
          "metadata": {},
          "execution_count": 4
        }
      ]
    },
    {
      "cell_type": "markdown",
      "source": [
        "Zadanie 2"
      ],
      "metadata": {
        "id": "25GUFHvlAfkp"
      }
    },
    {
      "cell_type": "code",
      "source": [
        "def guess_number():\n",
        "    import random\n",
        "    number = random.randint(1, 100)\n",
        "    while True:\n",
        "        guess = int(input(\"Podaj liczbę: \"))\n",
        "        if guess == number:\n",
        "            print(\"Zgadłeś!\")\n",
        "            break\n",
        "        elif guess < number:\n",
        "            print(\"Za mała\")\n",
        "        else:\n",
        "            print(\"Za duża\")"
      ],
      "metadata": {
        "id": "807MgTch_nxi"
      },
      "execution_count": null,
      "outputs": []
    },
    {
      "cell_type": "code",
      "source": [
        "guess_number()"
      ],
      "metadata": {
        "colab": {
          "base_uri": "https://localhost:8080/"
        },
        "id": "uHH4W_KcAQUi",
        "outputId": "9ed90cb4-da6d-4eec-e2f9-79bb57e66fdf"
      },
      "execution_count": null,
      "outputs": [
        {
          "output_type": "stream",
          "name": "stdout",
          "text": [
            "Podaj liczbę: 50\n",
            "Za duża\n",
            "Podaj liczbę: 30\n",
            "Za mała\n",
            "Podaj liczbę: 40\n",
            "Za duża\n",
            "Podaj liczbę: 35\n",
            "Za mała\n",
            "Podaj liczbę: 37\n",
            "Zgadłeś!\n"
          ]
        }
      ]
    },
    {
      "cell_type": "markdown",
      "source": [
        "Zadanie 3\n"
      ],
      "metadata": {
        "id": "_eQTRnhdAsnX"
      }
    },
    {
      "cell_type": "code",
      "source": [
        "def dna_len(dna):\n",
        "    return len(dna)\n",
        "\n",
        "dna_len(\"TTAGTAGGGTTGTCCAT\")"
      ],
      "metadata": {
        "colab": {
          "base_uri": "https://localhost:8080/"
        },
        "id": "ugYZ1s8bAvLv",
        "outputId": "d1e96e01-3a9b-4008-f5b9-f3cd12131c07"
      },
      "execution_count": null,
      "outputs": [
        {
          "output_type": "execute_result",
          "data": {
            "text/plain": [
              "17"
            ]
          },
          "metadata": {},
          "execution_count": 7
        }
      ]
    },
    {
      "cell_type": "code",
      "source": [
        "def dna_check(dna):\n",
        "    for char in dna:\n",
        "        if char not in \"ATGC\":\n",
        "            return False\n",
        "    return True\n",
        "\n",
        "#dna_check(\"TTAGTAGGGTTGTCCAT\")\n",
        "dna_check(\"RTTAGTAGGGTTGTCCAT\")"
      ],
      "metadata": {
        "colab": {
          "base_uri": "https://localhost:8080/"
        },
        "id": "qgKIuGxwBzjr",
        "outputId": "f4ea1e63-f569-4d17-83c1-2995fa4943f7"
      },
      "execution_count": null,
      "outputs": [
        {
          "output_type": "execute_result",
          "data": {
            "text/plain": [
              "False"
            ]
          },
          "metadata": {},
          "execution_count": 8
        }
      ]
    },
    {
      "cell_type": "code",
      "source": [
        "def dna_replace(dna):\n",
        "    new_dna = \"\"\n",
        "    for char in dna:\n",
        "        if char == \"A\":\n",
        "            new_dna += \"T\"\n",
        "        elif char == \"T\":\n",
        "            new_dna += \"A\"\n",
        "        elif char == \"G\":\n",
        "            new_dna += \"C\"\n",
        "        elif char == \"C\":\n",
        "            new_dna += \"G\"\n",
        "    return new_dna"
      ],
      "metadata": {
        "id": "Be3I0wwZCeVU"
      },
      "execution_count": null,
      "outputs": []
    },
    {
      "cell_type": "code",
      "source": [
        "dna_replace(\"ATCGAA\")"
      ],
      "metadata": {
        "colab": {
          "base_uri": "https://localhost:8080/",
          "height": 36
        },
        "id": "I6s6oTdIDLON",
        "outputId": "e1d64133-d099-4cec-f910-2b5dd0e54c9a"
      },
      "execution_count": null,
      "outputs": [
        {
          "output_type": "execute_result",
          "data": {
            "text/plain": [
              "'TAGCTT'"
            ],
            "application/vnd.google.colaboratory.intrinsic+json": {
              "type": "string"
            }
          },
          "metadata": {},
          "execution_count": 10
        }
      ]
    },
    {
      "cell_type": "code",
      "source": [
        "def dna_reverse(dna):\n",
        "    return dna[::-1]\n",
        "\n",
        "dna_reverse(\"ATCGAT\")"
      ],
      "metadata": {
        "colab": {
          "base_uri": "https://localhost:8080/",
          "height": 36
        },
        "id": "ampiVSlwFM7r",
        "outputId": "672d1ea4-c40c-4ebd-d516-7c3caf077204"
      },
      "execution_count": null,
      "outputs": [
        {
          "output_type": "execute_result",
          "data": {
            "text/plain": [
              "'TAGCTA'"
            ],
            "application/vnd.google.colaboratory.intrinsic+json": {
              "type": "string"
            }
          },
          "metadata": {},
          "execution_count": 11
        }
      ]
    },
    {
      "cell_type": "code",
      "source": [
        "dna = \"AATTGGCCATGC\"\n",
        "dna[5:7]"
      ],
      "metadata": {
        "colab": {
          "base_uri": "https://localhost:8080/",
          "height": 36
        },
        "id": "BYw6OhKNGELB",
        "outputId": "79b5339c-7a98-4372-8690-12954ba57989"
      },
      "execution_count": null,
      "outputs": [
        {
          "output_type": "execute_result",
          "data": {
            "text/plain": [
              "'GC'"
            ],
            "application/vnd.google.colaboratory.intrinsic+json": {
              "type": "string"
            }
          },
          "metadata": {},
          "execution_count": 12
        }
      ]
    },
    {
      "cell_type": "code",
      "source": [
        "def dna_gg(dna):\n",
        "    count = 0\n",
        "    for i in range(len(dna) - 1):\n",
        "        if dna[i:i+2] == \"GG\":\n",
        "            count += 1\n",
        "    return count\n",
        "\n",
        "dna_gg(\"RTGTAGTAGGAAGGTGTCCATGG\")"
      ],
      "metadata": {
        "colab": {
          "base_uri": "https://localhost:8080/"
        },
        "id": "vwLwSjTDF48l",
        "outputId": "ede9734e-d523-4dbc-b6c7-bd519ae64bfe"
      },
      "execution_count": null,
      "outputs": [
        {
          "output_type": "execute_result",
          "data": {
            "text/plain": [
              "3"
            ]
          },
          "metadata": {},
          "execution_count": 13
        }
      ]
    },
    {
      "cell_type": "code",
      "source": [
        "def dna_count(dna, str):\n",
        "    count = 0\n",
        "    for i in range(len(dna) - len(str) + 1):\n",
        "        if dna[i:i+len(str)] == str:\n",
        "            count += 1\n",
        "    return count\n",
        "\n",
        "dna_count(\"RTTAGTAGGATATATGTCCAT\", \"ATA\")"
      ],
      "metadata": {
        "colab": {
          "base_uri": "https://localhost:8080/"
        },
        "id": "ulMsY96DFXbv",
        "outputId": "257166c9-37d2-4a59-ff75-2528222d6fd0"
      },
      "execution_count": null,
      "outputs": [
        {
          "output_type": "execute_result",
          "data": {
            "text/plain": [
              "2"
            ]
          },
          "metadata": {},
          "execution_count": 14
        }
      ]
    },
    {
      "cell_type": "markdown",
      "source": [
        "\n",
        "\n",
        "---\n",
        "\n"
      ],
      "metadata": {
        "id": "YJPnP_BqGq4g"
      }
    },
    {
      "cell_type": "markdown",
      "source": [
        "# **Biblioteka Numpy**"
      ],
      "metadata": {
        "id": "mZFQoU-kGhkN"
      }
    },
    {
      "cell_type": "markdown",
      "source": [
        "Zadanie 1"
      ],
      "metadata": {
        "id": "3yPRVDQLIngr"
      }
    },
    {
      "cell_type": "code",
      "source": [
        "import numpy as np\n",
        "\n",
        "matrix = np.random.randint(0,100,size = (10,10))\n",
        "print(matrix)\n",
        "\n",
        "print(np.max(matrix))\n",
        "print(np.min(matrix))"
      ],
      "metadata": {
        "colab": {
          "base_uri": "https://localhost:8080/"
        },
        "id": "t9zF3-3zG0AF",
        "outputId": "5d35ea7b-2a0a-4179-94db-ae7db77a067a"
      },
      "execution_count": null,
      "outputs": [
        {
          "output_type": "stream",
          "name": "stdout",
          "text": [
            "[[86 80 69 39 18 83 51  7 58  8]\n",
            " [24 30 38 40 67 68 69 51  5 72]\n",
            " [ 3 49 30 38 57 56 68 99 83 18]\n",
            " [36 60 70 72  3 16 70 35 19 53]\n",
            " [24  7 20 65  3 10 48 12 84 14]\n",
            " [39 63  4 39 58 34 23 81 98 46]\n",
            " [56 84 51 55 57 42 81 62 83 65]\n",
            " [49 16 62  3 18 67 58 96 90 43]\n",
            " [73 22 70 42 60 78 51  0 56 82]\n",
            " [82  8  6 59  9 60 87 53 71 69]]\n",
            "99\n",
            "0\n"
          ]
        }
      ]
    },
    {
      "cell_type": "markdown",
      "source": [
        "Zadanie 2"
      ],
      "metadata": {
        "id": "9WyUSzBPIpHk"
      }
    },
    {
      "cell_type": "code",
      "source": [
        "def max_in_row(matrix):\n",
        "    return np.max(matrix, axis = 1)"
      ],
      "metadata": {
        "id": "4G2t1c_AIty2"
      },
      "execution_count": null,
      "outputs": []
    },
    {
      "cell_type": "code",
      "source": [
        "def max_in_col(matrix):\n",
        "    return np.max(matrix, axis = 0)"
      ],
      "metadata": {
        "id": "FL-tjVCGJGQw"
      },
      "execution_count": null,
      "outputs": []
    },
    {
      "cell_type": "code",
      "source": [
        "matrix = np.random.randint(0,100,size = (10,10))\n",
        "print(matrix)\n",
        "print(\"Max w wierszach: \", max_in_row(matrix))\n",
        "print(\"Max w kolumnach: \", max_in_col(matrix))"
      ],
      "metadata": {
        "colab": {
          "base_uri": "https://localhost:8080/"
        },
        "id": "t6AiPTyjI3na",
        "outputId": "608daaa1-b106-4f8c-d266-887c68e1cfb0"
      },
      "execution_count": null,
      "outputs": [
        {
          "output_type": "stream",
          "name": "stdout",
          "text": [
            "[[90  3 79  4 33 69 48 64 95 51]\n",
            " [ 6 25 62 50 78 40 89 67 85 78]\n",
            " [43 55 42 96 55 14 25 51 39 31]\n",
            " [62 22 43 18  6 18 23 47 84 31]\n",
            " [47 50  7 10  6 47 45 73 24 63]\n",
            " [79 59 94 74 66 26  9 90 12  7]\n",
            " [91 95 46 61 18  4 10 21 17 32]\n",
            " [43 86 16 26 78 34 68 36 94 52]\n",
            " [79 21 92 94 45 17 34 88 79 38]\n",
            " [17 69 40 74 25 93 14 10 27 51]]\n",
            "Max w wierszach:  [95 89 96 84 73 94 95 94 94 93]\n",
            "Max w kolumnach:  [91 95 94 96 78 93 89 90 95 78]\n"
          ]
        }
      ]
    },
    {
      "cell_type": "markdown",
      "source": [
        "Zadanie 3"
      ],
      "metadata": {
        "id": "H7swgOe1J_z4"
      }
    },
    {
      "cell_type": "code",
      "source": [
        "def matrix_def():\n",
        "    matrix = np.zeros((5,5))\n",
        "    for i in range(5):\n",
        "        for j in range(5):\n",
        "            if i == 0 or i == 4 or j == 0 or j == 4:\n",
        "                matrix[i,j] = 1\n",
        "            else:\n",
        "                matrix[i,j] = 0\n",
        "    return matrix\n",
        "\n",
        "def zero_to_one(matrix):\n",
        "    for i in range(5):\n",
        "        for j in range(5):\n",
        "            if matrix[i,j] == 0:\n",
        "                matrix[i,j] = 1\n",
        "            else:\n",
        "                matrix[i,j] = 0\n",
        "    return matrix"
      ],
      "metadata": {
        "id": "V4qk8LgXJ8hO"
      },
      "execution_count": 26,
      "outputs": []
    },
    {
      "cell_type": "code",
      "source": [
        "print(matrix_def())\n",
        "\n",
        "matrix = matrix_def()\n",
        "print(zero_to_one(matrix))"
      ],
      "metadata": {
        "colab": {
          "base_uri": "https://localhost:8080/",
          "height": 0
        },
        "id": "sbbvEUTDKi-V",
        "outputId": "e819662a-5b5c-4b41-af58-674d18351127"
      },
      "execution_count": 28,
      "outputs": [
        {
          "output_type": "stream",
          "name": "stdout",
          "text": [
            "[[1. 1. 1. 1. 1.]\n",
            " [1. 0. 0. 0. 1.]\n",
            " [1. 0. 0. 0. 1.]\n",
            " [1. 0. 0. 0. 1.]\n",
            " [1. 1. 1. 1. 1.]]\n",
            "[[0. 0. 0. 0. 0.]\n",
            " [0. 1. 1. 1. 0.]\n",
            " [0. 1. 1. 1. 0.]\n",
            " [0. 1. 1. 1. 0.]\n",
            " [0. 0. 0. 0. 0.]]\n"
          ]
        }
      ]
    },
    {
      "cell_type": "markdown",
      "source": [
        "Zadanie 4"
      ],
      "metadata": {
        "id": "OhP97wKFPLBi"
      }
    },
    {
      "cell_type": "code",
      "source": [
        "def matrix_sum(matrix1, matrix2):\n",
        "    return matrix1 + matrix2\n",
        "\n",
        "def matrix_sub(matrix1, matrix2):\n",
        "    return matrix1 - matrix2\n",
        "\n",
        "def matrix_mul(matrix1, matrix2):\n",
        "    return np.dot(matrix1, matrix2)\n",
        "\n",
        "def matrix_2_mul(matrix):\n",
        "    return (matrix * 2)/ 10\n",
        "\n",
        "def matrix_print_mid(matrix):\n",
        "    print(matrix[1:4,1:4])\n",
        "\n",
        "def matrix_to_vector(matrix):\n",
        "    return matrix.flatten()"
      ],
      "metadata": {
        "id": "i7tCY8BCOyzM"
      },
      "execution_count": 30,
      "outputs": []
    },
    {
      "cell_type": "code",
      "source": [
        "matrix1 = np.random.randint(0,100,size = (5,5))\n",
        "matrix2 = np.random.randint(0,100,size = (5,5))\n",
        "print(matrix1)\n",
        "print(matrix2)"
      ],
      "metadata": {
        "colab": {
          "base_uri": "https://localhost:8080/",
          "height": 0
        },
        "id": "wUYoluKyQoO5",
        "outputId": "56cf12ac-fb20-4893-d7e4-30a7b47975c7"
      },
      "execution_count": 39,
      "outputs": [
        {
          "output_type": "stream",
          "name": "stdout",
          "text": [
            "[[83  9 80 27 64]\n",
            " [ 7 38  4 55 21]\n",
            " [43 31 13 80 94]\n",
            " [57  0 64 51 25]\n",
            " [53 70 27 57 16]]\n",
            "[[79 13 19 23 56]\n",
            " [38 78 51  0 22]\n",
            " [51  1 72 52 86]\n",
            " [93 31 54 17 48]\n",
            " [62 24  0 67 51]]\n"
          ]
        }
      ]
    },
    {
      "cell_type": "code",
      "source": [
        "print(matrix_sum(matrix1, matrix2))"
      ],
      "metadata": {
        "colab": {
          "base_uri": "https://localhost:8080/",
          "height": 0
        },
        "id": "RhtZS3OGQB-8",
        "outputId": "a195067f-b68e-4f68-a9e0-295d52661ade"
      },
      "execution_count": 32,
      "outputs": [
        {
          "output_type": "stream",
          "name": "stdout",
          "text": [
            "[[ 65 106  51 113 102]\n",
            " [ 55  87  59 118  50]\n",
            " [110 125  90 152  19]\n",
            " [ 72  81  55  58 122]\n",
            " [145  42  87  86  76]]\n"
          ]
        }
      ]
    },
    {
      "cell_type": "code",
      "source": [
        "print(matrix_sub(matrix1, matrix2))"
      ],
      "metadata": {
        "colab": {
          "base_uri": "https://localhost:8080/",
          "height": 0
        },
        "id": "N35hxSNaQUV5",
        "outputId": "ecacff7b-2a58-4563-ef1f-8a3fb831d0a4"
      },
      "execution_count": 34,
      "outputs": [
        {
          "output_type": "stream",
          "name": "stdout",
          "text": [
            "[[-17  64 -23 -71  96]\n",
            " [ 55 -75 -45 -40  -4]\n",
            " [ 20  37 -86 -38  17]\n",
            " [-44  17 -39 -42  68]\n",
            " [ 15 -38  65  36 -74]]\n"
          ]
        }
      ]
    },
    {
      "cell_type": "code",
      "source": [
        "print(matrix_mul(matrix1, matrix2))"
      ],
      "metadata": {
        "colab": {
          "base_uri": "https://localhost:8080/",
          "height": 0
        },
        "id": "rvFxyI7oQfsn",
        "outputId": "8b3a1d5b-19ef-4916-905d-d4910fbfb79f"
      },
      "execution_count": 44,
      "outputs": [
        {
          "output_type": "stream",
          "name": "stdout",
          "text": [
            "[[17458  4234  9254 10816 16286]\n",
            " [ 8618  5268  5329  2711  5283]\n",
            " [18506  7726  7654  9323 12842]\n",
            " [14060  2986  8445  7181 12419]\n",
            " [14517  8327  9599  4664 10382]]\n"
          ]
        }
      ]
    },
    {
      "cell_type": "code",
      "source": [
        "print(matrix_2_mul(matrix1))"
      ],
      "metadata": {
        "colab": {
          "base_uri": "https://localhost:8080/",
          "height": 0
        },
        "id": "q1t0CFOcQhqz",
        "outputId": "630da5f4-a044-4f6f-8763-cdac807a85a0"
      },
      "execution_count": 36,
      "outputs": [
        {
          "output_type": "stream",
          "name": "stdout",
          "text": [
            "[[ 4.8 17.   2.8  4.2 19.8]\n",
            " [11.   1.2  1.4  7.8  4.6]\n",
            " [13.  16.2  0.4 11.4  3.6]\n",
            " [ 2.8  9.8  1.6  1.6 19. ]\n",
            " [16.   0.4 15.2 12.2  0.2]]\n"
          ]
        }
      ]
    },
    {
      "cell_type": "code",
      "source": [
        "matrix_print_mid(matrix1)"
      ],
      "metadata": {
        "colab": {
          "base_uri": "https://localhost:8080/",
          "height": 0
        },
        "id": "HtAxYbWiQ3YB",
        "outputId": "dab46a9d-1853-4ba5-d684-4a4cba0b67cd"
      },
      "execution_count": 46,
      "outputs": [
        {
          "output_type": "stream",
          "name": "stdout",
          "text": [
            "[[38  4 55]\n",
            " [31 13 80]\n",
            " [ 0 64 51]]\n"
          ]
        }
      ]
    },
    {
      "cell_type": "code",
      "source": [
        "print(matrix_to_vector(matrix1))"
      ],
      "metadata": {
        "colab": {
          "base_uri": "https://localhost:8080/",
          "height": 0
        },
        "id": "QTZPRmYtRIv8",
        "outputId": "6c9fa22c-cc1d-4c48-9495-59beb7dffbb3"
      },
      "execution_count": 47,
      "outputs": [
        {
          "output_type": "stream",
          "name": "stdout",
          "text": [
            "[83  9 80 27 64  7 38  4 55 21 43 31 13 80 94 57  0 64 51 25 53 70 27 57\n",
            " 16]\n"
          ]
        }
      ]
    }
  ]
}