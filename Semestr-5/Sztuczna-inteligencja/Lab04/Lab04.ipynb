{
  "nbformat": 4,
  "nbformat_minor": 0,
  "metadata": {
    "colab": {
      "provenance": [],
      "toc_visible": true
    },
    "kernelspec": {
      "name": "python3",
      "display_name": "Python 3"
    },
    "language_info": {
      "name": "python"
    }
  },
  "cells": [
    {
      "cell_type": "markdown",
      "source": [
        "#  Laboratorium 4 - Perceptron, problem xor"
      ],
      "metadata": {
        "id": "dSXWegDMYkAW"
      }
    },
    {
      "cell_type": "code",
      "execution_count": 100,
      "metadata": {
        "id": "eEY-eiu8YfpE"
      },
      "outputs": [],
      "source": [
        "import numpy as np\n",
        "\n",
        "x = np.array(\n",
        "    [[0,0],\n",
        "    [0,1],\n",
        "    [1,0],\n",
        "    [1,1]])\n",
        "\n",
        "d = np.array([1,0,0,1])"
      ]
    },
    {
      "cell_type": "markdown",
      "source": [
        "## Zadanie 1\n",
        "Sprawdzenie rozpoznawania punktów dla 1 perceptronu"
      ],
      "metadata": {
        "id": "9AlOhmi7Y269"
      }
    },
    {
      "cell_type": "code",
      "source": [
        "w = np.random.random(3)\n",
        "\n",
        "\n",
        "for i in range( len(x) ):\n",
        "  xx = x[i]\n",
        "  dd = d[i]\n",
        "\n",
        "  s = xx[0]*w[1] + xx[1]*w[2] + w[0]*(-1)\n",
        "  if s >= 0:\n",
        "    y = 1\n",
        "  else:\n",
        "    y = 0\n",
        "\n",
        "  print(\"x1: \", xx[0], \" x2: \", xx[1], \" d: \", dd, \" y: \", y)"
      ],
      "metadata": {
        "colab": {
          "base_uri": "https://localhost:8080/",
          "height": 0
        },
        "id": "LWFcg9kPY45F",
        "outputId": "2f00b11d-7a43-420c-8703-0c711e272396"
      },
      "execution_count": 101,
      "outputs": [
        {
          "output_type": "stream",
          "name": "stdout",
          "text": [
            "x1:  0  x2:  0  d:  1  y:  0\n",
            "x1:  0  x2:  1  d:  0  y:  1\n",
            "x1:  1  x2:  0  d:  0  y:  1\n",
            "x1:  1  x2:  1  d:  1  y:  1\n"
          ]
        }
      ]
    },
    {
      "cell_type": "code",
      "source": [
        "mi = 0.1\n",
        "for a in range(100):\n",
        "  for i in range( len(x) ):\n",
        "    xx = x[i]\n",
        "    dd = d[i]\n",
        "\n",
        "    s = xx[0]*w[1] + xx[1]*w[2] + w[0]*(-1)\n",
        "    if s >= 0:\n",
        "      y = 1\n",
        "    else:\n",
        "      y = 0\n",
        "\n",
        "    w[0] = w[0] + mi*(dd-y)*(-1)\n",
        "    w[1] = w[1] + mi*(dd-y)*xx[0]\n",
        "    w[2] = w[2] + mi*(dd-y)*xx[1]"
      ],
      "metadata": {
        "id": "9u5A_SKVZWxS"
      },
      "execution_count": 102,
      "outputs": []
    },
    {
      "cell_type": "code",
      "source": [
        "import matplotlib.pyplot as plt\n",
        "xx = np.arange(-1,3)\n",
        "yy = -(w[1]/w[2]) * xx + (w[0]/w[2])\n",
        "plt.plot(xx,yy, 'r-')\n",
        "\n",
        "for i in range( len(x) ):\n",
        "  if d[i] == 0:\n",
        "    plt.plot(x[i, 0], x[i, 1], 'ko')\n",
        "  else:\n",
        "    plt.plot(x[i, 0], x[i, 1], 'm*')\n"
      ],
      "metadata": {
        "colab": {
          "base_uri": "https://localhost:8080/",
          "height": 430
        },
        "id": "vj4ZQBOFZZ9z",
        "outputId": "64d22afb-e305-4d36-e3f7-7ce9034e04d3"
      },
      "execution_count": 103,
      "outputs": [
        {
          "output_type": "display_data",
          "data": {
            "text/plain": [
              "<Figure size 640x480 with 1 Axes>"
            ],
            "image/png": "[encoded data removed]"
          },
          "metadata": {}
        }
      ]
    },
    {
      "cell_type": "markdown",
      "source": [
        "## Zadanie 2"
      ],
      "metadata": {
        "id": "iX5H6RDZZ83B"
      }
    },
    {
      "cell_type": "code",
      "source": [
        "import numpy as np\n",
        "\n",
        "x = np.array(\n",
        "    [[0,0],\n",
        "    [0,1],\n",
        "    [1,0],\n",
        "    [1,1]])\n",
        "\n",
        "d1 = np.array([0,0,0,1])\n",
        "d2 = np.array([1,0,0,0])\n",
        "\n",
        "w1 = np.random.random(3)\n",
        "w2 = np.random.random(3)"
      ],
      "metadata": {
        "id": "vffPL69gZ-ly"
      },
      "execution_count": 143,
      "outputs": []
    },
    {
      "cell_type": "code",
      "source": [
        "for i in range(len(x)):\n",
        "  xx = x[i]\n",
        "  dd1 = d1[i]\n",
        "\n",
        "  s1 = xx[0]*w1[1] + xx[1]*w1[2] + w1[0]*(-1)\n",
        "  if s1 >= 0:\n",
        "    y1 = 1\n",
        "  else:\n",
        "    y1 = 0\n",
        "\n",
        "  print(\"x1: \", xx[0], \" x2: \", xx[1], \" d1: \", dd1, \" y1: \", y1)\n",
        "\n",
        "print(\"=======\")\n",
        "\n",
        "for i in range(len(x)):\n",
        "  xx = x[i]\n",
        "  dd2 = d2[i]\n",
        "\n",
        "  s2 = xx[0]*w2[1] + xx[1]*w2[2] + w2[0]*(-1)\n",
        "  if s2 >= 0:\n",
        "    y2 = 1\n",
        "  else:\n",
        "    y2 = 0\n",
        "\n",
        "  print(\"x1: \", xx[0], \" x2: \", xx[1], \" d2: \", dd2, \" y2: \", y2)"
      ],
      "metadata": {
        "colab": {
          "base_uri": "https://localhost:8080/",
          "height": 0
        },
        "id": "e5niT0Qzao3T",
        "outputId": "a17c6315-a646-4deb-9492-5750e5d6a0af"
      },
      "execution_count": 147,
      "outputs": [
        {
          "output_type": "stream",
          "name": "stdout",
          "text": [
            "x1:  0  x2:  0  d1:  0  y1:  0\n",
            "x1:  0  x2:  1  d1:  0  y1:  0\n",
            "x1:  1  x2:  0  d1:  0  y1:  0\n",
            "x1:  1  x2:  1  d1:  1  y1:  1\n",
            "=======\n",
            "x1:  0  x2:  0  d2:  1  y2:  1\n",
            "x1:  0  x2:  1  d2:  0  y2:  0\n",
            "x1:  1  x2:  0  d2:  0  y2:  0\n",
            "x1:  1  x2:  1  d2:  0  y2:  0\n"
          ]
        }
      ]
    },
    {
      "cell_type": "code",
      "source": [
        "mi = 0.1\n",
        "y1 = np.zeros(4)\n",
        "y2 = np.zeros(4)\n",
        "for a in range(100):\n",
        "  for i in range( len(x) ):\n",
        "    xx = x[i]\n",
        "    dd1 = d1[i]\n",
        "\n",
        "    s1 = xx[0]*w1[1] + xx[1]*w1[2] + w1[0]*(-1)\n",
        "    if s1 >= 0:\n",
        "      y1[i] = 1\n",
        "    else:\n",
        "      y1[i] = 0\n",
        "\n",
        "    w1[0] = w1[0] + mi*(dd1-y1[i])*(-1)\n",
        "    w1[1] = w1[1] + mi*(dd1-y1[i])*xx[0]\n",
        "    w1[2] = w1[2] + mi*(dd1-y1[i])*xx[1]\n",
        "\n",
        "  for i in range( len(x) ):\n",
        "    xx = x[i]\n",
        "    dd2 = d2[i]\n",
        "\n",
        "    s2 = xx[0]*w2[1] + xx[1]*w2[2] + w2[0]*(-1)\n",
        "    if s2 >= 0:\n",
        "      y2[i] = 1\n",
        "    else:\n",
        "      y2[i] = 0\n",
        "\n",
        "    w2[0] = w2[0] + mi*(dd2-y2[i])*(-1)\n",
        "    w2[1] = w2[1] + mi*(dd2-y2[i])*xx[0]\n",
        "    w2[2] = w2[2] + mi*(dd2-y2[i])*xx[1]\n",
        "#print(y1)\n",
        "#print(y2)\n",
        "\n",
        "y1 = y1.reshape(4, 1)\n",
        "y2 = y2.reshape(4, 1)\n",
        "\n",
        "y = np.concatenate((y1, y2), axis=1)\n",
        "print(y)"
      ],
      "metadata": {
        "colab": {
          "base_uri": "https://localhost:8080/",
          "height": 0
        },
        "id": "J5Lkq2T3b2ap",
        "outputId": "10bc3747-54e4-4332-ec0f-4510c921cf3c"
      },
      "execution_count": 145,
      "outputs": [
        {
          "output_type": "stream",
          "name": "stdout",
          "text": [
            "[[0. 1.]\n",
            " [0. 0.]\n",
            " [0. 0.]\n",
            " [1. 0.]]\n"
          ]
        }
      ]
    },
    {
      "cell_type": "code",
      "source": [
        "import matplotlib.pyplot as plt\n",
        "xx = np.arange(-0.5,2.5)\n",
        "plt.ylim(-1, 2)\n",
        "\n",
        "yy1 = -(w1[1]/w1[2]) * xx + (w1[0]/w1[2])\n",
        "plt.plot(xx,yy1, 'r-')\n",
        "\n",
        "yy2 = -(w2[1]/w2[2]) * xx + (w2[0]/w2[2])\n",
        "plt.plot(xx,yy2, 'g-')\n",
        "\n",
        "\n",
        "for i in range( len(x) ):\n",
        "  if d1[i] == 1 or d2[i]==1:\n",
        "    plt.plot(x[i, 0], x[i, 1], 'm*')\n",
        "  else:\n",
        "    plt.plot(x[i, 0], x[i, 1], 'ko')\n"
      ],
      "metadata": {
        "colab": {
          "base_uri": "https://localhost:8080/",
          "height": 435
        },
        "id": "31r9LT3PbaBP",
        "outputId": "48d58671-1ad1-4e7a-8366-071a3c816623"
      },
      "execution_count": 146,
      "outputs": [
        {
          "output_type": "display_data",
          "data": {
            "text/plain": [
              "<Figure size 640x480 with 1 Axes>"
            ],
            "image/png": "[encoded data removed]"
          },
          "metadata": {}
        }
      ]
    },
    {
      "cell_type": "markdown",
      "source": [
        "## Zadanie 3 - trzeci perceptron"
      ],
      "metadata": {
        "id": "PHrJ8v7zmuJ0"
      }
    },
    {
      "cell_type": "code",
      "source": [
        "w3 = np.random.random(3)\n"
      ],
      "metadata": {
        "id": "_lUUMDOYl0L0"
      },
      "execution_count": 108,
      "outputs": []
    },
    {
      "cell_type": "code",
      "source": [
        "for i in range( len(x) ):\n",
        "  yy = y[i]\n",
        "  dd3 = d[i]\n",
        "\n",
        "  s3 = yy[0] * w3[1] + yy[1] * w3[2] + w3[0] * (-1)\n",
        "  if s3 >= 0:\n",
        "    y3 = 1\n",
        "  else:\n",
        "    y3 = 0\n",
        "  print(\"y1: \", yy[0], \" y2: \", yy[1], \" d3: \", dd3, \" y: \", y3)"
      ],
      "metadata": {
        "colab": {
          "base_uri": "https://localhost:8080/",
          "height": 0
        },
        "id": "I4UHw2RflnwX",
        "outputId": "6572ee4c-ac56-4cfa-c8a5-a46c2536e0b3"
      },
      "execution_count": 109,
      "outputs": [
        {
          "output_type": "stream",
          "name": "stdout",
          "text": [
            "y1:  0.0  y2:  1.0  d3:  1  y:  0\n",
            "y1:  0.0  y2:  0.0  d3:  0  y:  0\n",
            "y1:  0.0  y2:  0.0  d3:  0  y:  0\n",
            "y1:  1.0  y2:  0.0  d3:  1  y:  1\n"
          ]
        }
      ]
    },
    {
      "cell_type": "code",
      "source": [
        "mi = 0.1\n",
        "y3 = np.zeros(3)\n",
        "\n",
        "for a in range(10):\n",
        "  for i in range(len(x)):\n",
        "      yy = y[i]\n",
        "      dd3 = d[i]\n",
        "\n",
        "      s3 = yy[0] * w3[1] + yy[1] * w3[2] + w3[0] * (-1)\n",
        "      if s3 >= 0:\n",
        "        y3 = 1\n",
        "      else:\n",
        "        y3 = 0\n",
        "\n",
        "      w3[0] = w3[0] + mi * (dd3 - y3) * (-1)\n",
        "      w3[1] = w3[1] + mi * (dd3 - y3) * yy[0]\n",
        "      w3[2] = w3[2] + mi * (dd3 - y3) * yy[1]\n",
        "\n"
      ],
      "metadata": {
        "id": "rKOa_A1If6Pb"
      },
      "execution_count": 115,
      "outputs": []
    },
    {
      "cell_type": "code",
      "source": [
        "import matplotlib.pyplot as plt\n",
        "xx = np.arange(-1,3)\n",
        "yyy = -(w3[1]/w3[2]) * xx + (w3[0]/w3[2])\n",
        "plt.plot(xx,yyy, 'r-')\n",
        "plt.ylim(-1, 2)\n",
        "\n",
        "for i in range( len(x) ):\n",
        "  if d[i] == 1:\n",
        "    plt.plot(y[i, 0], y[i, 1], 'bx')\n",
        "  else:\n",
        "    plt.plot(y[i, 0], y[i, 1], 'ko')"
      ],
      "metadata": {
        "colab": {
          "base_uri": "https://localhost:8080/",
          "height": 435
        },
        "id": "EW8Y_nLwmUxq",
        "outputId": "2609adc8-f57c-41aa-bc31-bcf2d2c8a185"
      },
      "execution_count": 148,
      "outputs": [
        {
          "output_type": "display_data",
          "data": {
            "text/plain": [
              "<Figure size 640x480 with 1 Axes>"
            ],
            "image/png": "[encoded data removed]"
          },
          "metadata": {}
        }
      ]
    },
    {
      "cell_type": "code",
      "source": [
        "def predict (x, w):\n",
        "  s = x[0]*w[1] + x[1]*w[2] + w[0]*(-1)\n",
        "  if s >= 0:\n",
        "    return 1\n",
        "  else:\n",
        "    return 0\n"
      ],
      "metadata": {
        "id": "AzmueSRcn65L"
      },
      "execution_count": 149,
      "outputs": []
    },
    {
      "cell_type": "markdown",
      "source": [
        "## Zadanie 4"
      ],
      "metadata": {
        "id": "3i6mEo9rsiWR"
      }
    },
    {
      "cell_type": "code",
      "source": [
        "print(\"x1   x2    y1    y2    d\")\n",
        "\n",
        "for i in range( len(x) ):\n",
        "  xx = x[i]\n",
        "\n",
        "  y1_p = predict(xx, w1)\n",
        "  y2_p = predict(xx, w2)\n",
        "\n",
        "\n",
        "  y_p = predict([y1_p, y2_p], w3)\n",
        "  print(\"- - - - - - - - - - - - -\")\n",
        "  print(xx[0], \"  \", xx[1],\"   \",  y1_p,\"   \", y2_p, \"   \", y_p)"
      ],
      "metadata": {
        "colab": {
          "base_uri": "https://localhost:8080/",
          "height": 0
        },
        "id": "ESxIHIceoCCp",
        "outputId": "14baec9e-dcff-4d45-cbe9-aa186806b7bf"
      },
      "execution_count": 152,
      "outputs": [
        {
          "output_type": "stream",
          "name": "stdout",
          "text": [
            "x1   x2    y1    y2    d\n",
            "- - - - - - - - - - - - -\n",
            "0    0     0     1     1\n",
            "- - - - - - - - - - - - -\n",
            "0    1     0     0     0\n",
            "- - - - - - - - - - - - -\n",
            "1    0     0     0     0\n",
            "- - - - - - - - - - - - -\n",
            "1    1     1     0     1\n"
          ]
        }
      ]
    }
  ]
}